{
  "nbformat": 4,
  "nbformat_minor": 0,
  "metadata": {
    "colab": {
      "provenance": []
    },
    "kernelspec": {
      "name": "python3",
      "display_name": "Python 3"
    },
    "language_info": {
      "name": "python"
    }
  },
  "cells": [
    {
      "cell_type": "code",
      "execution_count": null,
      "metadata": {
        "colab": {
          "base_uri": "https://localhost:8080/"
        },
        "id": "pq9yEWLUadSH",
        "outputId": "59cee4c7-10e0-4abb-cbec-27ca5bb668d0"
      },
      "outputs": [
        {
          "output_type": "stream",
          "name": "stdout",
          "text": [
            "Requirement already satisfied: requests in /usr/local/lib/python3.10/dist-packages (2.32.3)\n",
            "Requirement already satisfied: charset-normalizer<4,>=2 in /usr/local/lib/python3.10/dist-packages (from requests) (3.4.1)\n",
            "Requirement already satisfied: idna<4,>=2.5 in /usr/local/lib/python3.10/dist-packages (from requests) (3.10)\n",
            "Requirement already satisfied: urllib3<3,>=1.21.1 in /usr/local/lib/python3.10/dist-packages (from requests) (2.3.0)\n",
            "Requirement already satisfied: certifi>=2017.4.17 in /usr/local/lib/python3.10/dist-packages (from requests) (2024.12.14)\n"
          ]
        }
      ],
      "source": [
        "!pip install requests"
      ]
    },
    {
      "cell_type": "code",
      "source": [
        "import requests\n",
        "\n",
        "class SteamReviews:\n",
        "    def __init__(self, limit=10):\n",
        "        self.endpoint = 'https://store.steampowered.com/appreviews/'\n",
        "        self.limit = limit\n",
        "\n",
        "    def get(self, appid=440, cursor=None, language=\"spanish\", filter=\"recent\", review_type=\"all\", purchase_type=\"all\", json=1):\n",
        "        params = {\n",
        "            'json': json,\n",
        "            'filter': filter,\n",
        "            'language': language,\n",
        "            'review_type': review_type,\n",
        "            'purchase_type': purchase_type,\n",
        "        }\n",
        "        if cursor is not None:\n",
        "          params['cursor'] = cursor\n",
        "\n",
        "        return self._make_request(appid, params)\n",
        "\n",
        "    def _make_request(self, appid, params):\n",
        "        url = f\"{self.endpoint}{appid}\"\n",
        "        response = requests.get(url, params=params)\n",
        "        return response.json()"
      ],
      "metadata": {
        "id": "EblHIH6banF4"
      },
      "execution_count": 24,
      "outputs": []
    },
    {
      "cell_type": "code",
      "source": [
        "\n",
        "my_reviews = [];\n",
        "cursor = None\n",
        "reviews = SteamReviews()\n",
        "game_id = 2443720\n",
        "for i in range(300):\n",
        "  try:\n",
        "    results = reviews.get(appid=game_id, cursor = cursor, language=\"english\")\n",
        "    cursor = results[\"cursor\"]\n",
        "    primera_resena = results[\"reviews\"][0]\n",
        "    for review in results[\"reviews\"]:\n",
        "      new_review = [review['author']['steamid'], review[\"review\"], review['author'][\"num_games_owned\"], review['author'][\"playtime_last_two_weeks\"], review['author'][\"playtime_at_review\"], review['author'][\"last_played\"], review['received_for_free'], review[\"written_during_early_access\"] ]\n",
        "      my_reviews.append(new_review)\n",
        "  except IndexError:\n",
        "    break"
      ],
      "metadata": {
        "id": "6cDsg5Sdf-bw"
      },
      "execution_count": 29,
      "outputs": []
    },
    {
      "cell_type": "code",
      "source": [
        "import csv\n",
        "\n",
        "columnas = [\"SteamID\", \"Review\", \"NumGamesOwned\", \"PlaytimeLastTwoWeeks\", \"PlaytimeAtReview\", \"LastPlayed\", \"ReceivedForFree\", \"WrittenDuringEarlyAccess\"]\n",
        "\n",
        "nombre_archivo = \"reviews_concord.csv\"\n",
        "with open(nombre_archivo, mode='w', newline='', encoding='utf-8') as archivo_csv:\n",
        "    escritor_csv = csv.writer(archivo_csv)\n",
        "    escritor_csv.writerow(columnas)\n",
        "    for fila in my_reviews:\n",
        "        escritor_csv.writerow(fila)\n",
        "\n",
        "print(f\"La lista se ha guardado en {nombre_archivo}\")\n"
      ],
      "metadata": {
        "colab": {
          "base_uri": "https://localhost:8080/"
        },
        "id": "LC9abSkrjBvE",
        "outputId": "16cf8f96-ad76-49bd-b2df-39428f5d1f8a"
      },
      "execution_count": 31,
      "outputs": [
        {
          "output_type": "stream",
          "name": "stdout",
          "text": [
            "La lista se ha guardado en reviews_concord.csv\n"
          ]
        }
      ]
    }
  ]
}